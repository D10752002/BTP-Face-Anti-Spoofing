{
 "cells": [
  {
   "cell_type": "code",
   "execution_count": 9,
   "id": "03df63be-e19a-45c5-ada4-128c0d962576",
   "metadata": {},
   "outputs": [],
   "source": [
    "import os\n",
    "import cv2\n",
    "import shutil\n",
    "import random\n",
    "import string\n",
    "import numpy as np\n",
    "from tqdm.notebook import tqdm\n",
    "# from imutils import face_utils\n",
    "import matplotlib.pyplot as plt\n",
    "# from mtcnn.mtcnn import MTCNN\n",
    "import csv"
   ]
  },
  {
   "cell_type": "code",
   "execution_count": 10,
   "id": "9f3d1fc9-55b5-4fd4-baab-e44d38afef69",
   "metadata": {},
   "outputs": [],
   "source": [
    "# import os\n",
    "# import random\n",
    "# import csv\n",
    "\n",
    "# # Define the paths to your train and test folders\n",
    "# train_folder = '/home/dinesh/Documents/Datasets/Face anti-spoofing datasets/OULU-NPU-processed/train/'\n",
    "# dev_folder = '/home/dinesh/Documents/Datasets/Face anti-spoofing datasets/OULU-NPU-processed/dev/'\n",
    "# test_folder = '/home/dinesh/Documents/Datasets/Face anti-spoofing datasets/OULU-NPU-processed/test/'\n",
    "\n",
    "# # Function to label and shuffle data in a folder\n",
    "# def process_folder(folder_path, label):\n",
    "#     image_paths = []\n",
    "#     for root, dirs, files in os.walk(folder_path):\n",
    "#         for file in files:\n",
    "#             if file.endswith('.png'):\n",
    "#                 image_path = os.path.join(root, file)\n",
    "#                 image_paths.append((image_path, label))\n",
    "    \n",
    "#     # Shuffle the image paths\n",
    "#     random.shuffle(image_paths)\n",
    "    \n",
    "#     return image_paths\n",
    "\n",
    "# # Process the train and test folders\n",
    "# train_real_paths = process_folder(os.path.join(train_folder, 'real'), 1)\n",
    "# dev_real_paths = process_folder(os.path.join(dev_folder, 'real'), 1)\n",
    "# test_real_paths = process_folder(os.path.join(test_folder, 'real'), 1)\n",
    "\n",
    "# # Include images from the \"hand\" and \"fixed\" subfolders within the \"spoof\" folder\n",
    "# train_fake_paths = process_folder(os.path.join(train_folder, 'attack'), 0)\n",
    "# dev_fake_paths = process_folder(os.path.join(dev_folder, 'attack'), 0)\n",
    "# test_fake_paths = process_folder(os.path.join(test_folder, 'attack'), 0)\n",
    "\n",
    "# # Combine real and fake paths\n",
    "# train_data = train_real_paths + train_fake_paths\n",
    "# dev_data = dev_real_paths + dev_fake_paths\n",
    "# test_data = test_real_paths + test_fake_paths\n",
    "\n",
    "# # Shuffle the combined data\n",
    "# random.shuffle(train_data)\n",
    "# random.shuffle(dev_data)\n",
    "# random.shuffle(test_data)\n",
    "\n",
    "# # Define CSV filenames\n",
    "# train_csv_filename = 'train_data.csv'\n",
    "# dev_csv_filename = 'dev_data.csv'\n",
    "# test_csv_filename = 'test_data.csv'\n",
    "\n",
    "# # Write data to CSV files\n",
    "# def write_to_csv(filename, data):\n",
    "#     with open(filename, 'w', newline='') as csvfile:\n",
    "#         csv_writer = csv.writer(csvfile)\n",
    "#         csv_writer.writerow(['name', 'label'])\n",
    "#         csv_writer.writerows(data)\n",
    "\n",
    "# write_to_csv(train_csv_filename, train_data)\n",
    "# write_to_csv(dev_csv_filename, dev_data)\n",
    "# write_to_csv(test_csv_filename, test_data)\n",
    "\n",
    "# print(f\"Train data saved to {train_csv_filename}\")\n",
    "# print(f\"Dev data saved to {dev_csv_filename}\")\n",
    "# print(f\"Test data saved to {test_csv_filename}\")\n"
   ]
  },
  {
   "cell_type": "code",
   "execution_count": null,
   "id": "c2406986-48b2-4b00-9b80-890e051e2438",
   "metadata": {},
   "outputs": [],
   "source": []
  },
  {
   "cell_type": "markdown",
   "id": "de5ab38f-3a5d-46b9-bb78-ab9ceb1c6794",
   "metadata": {},
   "source": [
    "### DEFINE CSV FILES FOR 4 PROTOCOLS"
   ]
  },
  {
   "cell_type": "markdown",
   "id": "7fdca14c-b52d-4e43-a639-366ac61b68aa",
   "metadata": {},
   "source": [
    "Protocol 1 and 2"
   ]
  },
  {
   "cell_type": "code",
   "execution_count": 11,
   "id": "75ee43f1-4ab1-49d3-827a-0d79d3e3abec",
   "metadata": {},
   "outputs": [
    {
     "data": {
      "application/vnd.jupyter.widget-view+json": {
       "model_id": "9ed42f045cf54727ac2d13c1af779f47",
       "version_major": 2,
       "version_minor": 0
      },
      "text/plain": [
       "Processing images: 0it [00:00, ?it/s]"
      ]
     },
     "metadata": {},
     "output_type": "display_data"
    },
    {
     "name": "stdout",
     "output_type": "stream",
     "text": [
      "157399\n"
     ]
    },
    {
     "data": {
      "application/vnd.jupyter.widget-view+json": {
       "model_id": "0402cbaa2aa74b17aa628f3c84f2e282",
       "version_major": 2,
       "version_minor": 0
      },
      "text/plain": [
       "Processing images: 0it [00:00, ?it/s]"
      ]
     },
     "metadata": {},
     "output_type": "display_data"
    },
    {
     "name": "stdout",
     "output_type": "stream",
     "text": [
      "112238\n"
     ]
    },
    {
     "data": {
      "application/vnd.jupyter.widget-view+json": {
       "model_id": "73bc2e7f1d7742fa892318f33b531054",
       "version_major": 2,
       "version_minor": 0
      },
      "text/plain": [
       "Processing images: 0it [00:00, ?it/s]"
      ]
     },
     "metadata": {},
     "output_type": "display_data"
    },
    {
     "name": "stdout",
     "output_type": "stream",
     "text": [
      "80732\n"
     ]
    }
   ],
   "source": [
    "import os\n",
    "import csv\n",
    "\n",
    "# Define paths\n",
    "data_folders = ['Train', 'Dev', 'Test']\n",
    "labels = {'+': 1, '-': 0}\n",
    "\n",
    "for folder in data_folders:\n",
    "    i=0\n",
    "    with open(f'{folder}_protocol_1.csv', 'w', newline='') as csvfile:\n",
    "        fieldnames = ['name', 'label']\n",
    "        writer = csv.DictWriter(csvfile, fieldnames=fieldnames)\n",
    "        writer.writeheader()\n",
    "\n",
    "        with open(f'/home/dinesh/Documents/Datasets/Face anti-spoofing datasets/OULU-NPU/Protocols/Protocol_1/{folder}.txt', 'r') as file:\n",
    "            li=0\n",
    "            for line in tqdm(file, desc='Processing images'):\n",
    "                li+=1\n",
    "                if li%5!=0:\n",
    "                    continue\n",
    "                parts = line.strip().split(',')\n",
    "                xy, a_b_cd_e = parts[0], parts[1]\n",
    "                x=xy[0]\n",
    "                a, b, cd, e = a_b_cd_e.split('_')\n",
    "\n",
    "                image_folder = 'real'\n",
    "                image_name = f'{a}_{b}_{cd}'\n",
    "                if folder=='Train':\n",
    "                    folder_name='train'\n",
    "                if folder=='Dev':\n",
    "                    folder_name='dev'\n",
    "                if folder=='Test':\n",
    "                    folder_name='test'\n",
    "                image_folder_path = os.path.join(folder_name, image_folder)\n",
    "                image_folder_abs_path = os.path.join('/home/dinesh/Documents/Datasets/Face anti-spoofing datasets/OULU-NPU-processed/', image_folder_path)\n",
    "                matching_files = [f for f in os.listdir(image_folder_abs_path) if f.startswith(image_name)]\n",
    "\n",
    "                for file_name in matching_files:\n",
    "                    i+=1\n",
    "                    image_path = os.path.join(image_folder_abs_path, file_name)\n",
    "                    writer.writerow({'name': image_path, 'label': 1})\n",
    "\n",
    "                image_folder = 'attack'\n",
    "                image_name = f'{a}_{b}_{cd}'\n",
    "                if folder=='Train':\n",
    "                    folder_name='train'\n",
    "                if folder=='Dev':\n",
    "                    folder_name='dev'\n",
    "                if folder=='Test':\n",
    "                    folder_name='test'\n",
    "                image_folder_path = os.path.join(folder_name, image_folder)\n",
    "                image_folder_abs_path = os.path.join('/home/dinesh/Documents/Datasets/Face anti-spoofing datasets/OULU-NPU-processed/', image_folder_path)\n",
    "                matching_files = [f for f in os.listdir(image_folder_abs_path) if f.startswith(image_name)]\n",
    "\n",
    "                for file_name in matching_files:\n",
    "                    i+=1\n",
    "                    image_path = os.path.join(image_folder_abs_path, file_name)\n",
    "                    writer.writerow({'name': image_path, 'label': 0})\n",
    "    print(i)\n"
   ]
  },
  {
   "cell_type": "code",
   "execution_count": 12,
   "id": "2abe491d-dc76-46bf-b676-217c2c1b6f2c",
   "metadata": {},
   "outputs": [
    {
     "data": {
      "application/vnd.jupyter.widget-view+json": {
       "model_id": "30ddcd2c4828434884895671ae31117b",
       "version_major": 2,
       "version_minor": 0
      },
      "text/plain": [
       "Processing images: 0it [00:00, ?it/s]"
      ]
     },
     "metadata": {},
     "output_type": "display_data"
    },
    {
     "name": "stdout",
     "output_type": "stream",
     "text": [
      "144328\n"
     ]
    },
    {
     "data": {
      "application/vnd.jupyter.widget-view+json": {
       "model_id": "4b4383078d8e4632b5fb5af5fc27033d",
       "version_major": 2,
       "version_minor": 0
      },
      "text/plain": [
       "Processing images: 0it [00:00, ?it/s]"
      ]
     },
     "metadata": {},
     "output_type": "display_data"
    },
    {
     "name": "stdout",
     "output_type": "stream",
     "text": [
      "101020\n"
     ]
    },
    {
     "data": {
      "application/vnd.jupyter.widget-view+json": {
       "model_id": "5966a68739c64804a9273677a8113a58",
       "version_major": 2,
       "version_minor": 0
      },
      "text/plain": [
       "Processing images: 0it [00:00, ?it/s]"
      ]
     },
     "metadata": {},
     "output_type": "display_data"
    },
    {
     "name": "stdout",
     "output_type": "stream",
     "text": [
      "141217\n"
     ]
    }
   ],
   "source": [
    "import os\n",
    "import csv\n",
    "\n",
    "# Define paths\n",
    "data_folders = ['Train', 'Dev', 'Test']\n",
    "labels = {'+': 1, '-': 0}\n",
    "\n",
    "for folder in data_folders:\n",
    "    i=0\n",
    "    with open(f'{folder}_protocol_2.csv', 'w', newline='') as csvfile:\n",
    "        fieldnames = ['name', 'label']\n",
    "        writer = csv.DictWriter(csvfile, fieldnames=fieldnames)\n",
    "        writer.writeheader()\n",
    "\n",
    "        with open(f'/home/dinesh/Documents/Datasets/Face anti-spoofing datasets/OULU-NPU/Protocols/Protocol_2/{folder}.txt', 'r') as file:\n",
    "            li=0\n",
    "            for line in tqdm(file, desc='Processing images'):\n",
    "                li+=1\n",
    "                if li%5!=0:\n",
    "                    continue\n",
    "                parts = line.strip().split(',')\n",
    "                xy, a_b_cd_e = parts[0], parts[1]\n",
    "                x=xy[0]\n",
    "                a, b, cd, e = a_b_cd_e.split('_')\n",
    "\n",
    "                image_folder = 'real'\n",
    "                image_name = f'{a}_{b}_{cd}'\n",
    "                if folder=='Train':\n",
    "                    folder_name='train'\n",
    "                if folder=='Dev':\n",
    "                    folder_name='dev'\n",
    "                if folder=='Test':\n",
    "                    folder_name='test'\n",
    "                image_folder_path = os.path.join(folder_name, image_folder)\n",
    "                image_folder_abs_path = os.path.join('/home/dinesh/Documents/Datasets/Face anti-spoofing datasets/OULU-NPU-processed/', image_folder_path)\n",
    "                matching_files = [f for f in os.listdir(image_folder_abs_path) if f.startswith(image_name)]\n",
    "\n",
    "                for file_name in matching_files:\n",
    "                    i+=1\n",
    "                    image_path = os.path.join(image_folder_abs_path, file_name)\n",
    "                    writer.writerow({'name': image_path, 'label': 1})\n",
    "\n",
    "                image_folder = 'attack'\n",
    "                image_name = f'{a}_{b}_{cd}'\n",
    "                if folder=='Train':\n",
    "                    folder_name='train'\n",
    "                if folder=='Dev':\n",
    "                    folder_name='dev'\n",
    "                if folder=='Test':\n",
    "                    folder_name='test'\n",
    "                image_folder_path = os.path.join(folder_name, image_folder)\n",
    "                image_folder_abs_path = os.path.join('/home/dinesh/Documents/Datasets/Face anti-spoofing datasets/OULU-NPU-processed/', image_folder_path)\n",
    "                matching_files = [f for f in os.listdir(image_folder_abs_path) if f.startswith(image_name)]\n",
    "\n",
    "                for file_name in matching_files:\n",
    "                    i+=1\n",
    "                    image_path = os.path.join(image_folder_abs_path, file_name)\n",
    "                    writer.writerow({'name': image_path, 'label': 0})\n",
    "    print(i)\n"
   ]
  },
  {
   "cell_type": "markdown",
   "id": "9b0cde94-825e-46cf-b3d3-d1fc0ecd1418",
   "metadata": {},
   "source": [
    "Protocol 3 and 4"
   ]
  },
  {
   "cell_type": "code",
   "execution_count": 13,
   "id": "c3a72924-bc51-4190-bcfb-0b16a7a1a140",
   "metadata": {},
   "outputs": [
    {
     "data": {
      "application/vnd.jupyter.widget-view+json": {
       "model_id": "9244d6ab18834259b8f3cfeb4016e6d8",
       "version_major": 2,
       "version_minor": 0
      },
      "text/plain": [
       "Processing images in Train_1.txt: 0it [00:00, ?it/s]"
      ]
     },
     "metadata": {},
     "output_type": "display_data"
    },
    {
     "data": {
      "application/vnd.jupyter.widget-view+json": {
       "model_id": "93600fe1333d481fa0d61d11f863c7d9",
       "version_major": 2,
       "version_minor": 0
      },
      "text/plain": [
       "Processing images in Train_2.txt: 0it [00:00, ?it/s]"
      ]
     },
     "metadata": {},
     "output_type": "display_data"
    },
    {
     "data": {
      "application/vnd.jupyter.widget-view+json": {
       "model_id": "a4674163093a4da798b81055f9a413da",
       "version_major": 2,
       "version_minor": 0
      },
      "text/plain": [
       "Processing images in Train_3.txt: 0it [00:00, ?it/s]"
      ]
     },
     "metadata": {},
     "output_type": "display_data"
    },
    {
     "data": {
      "application/vnd.jupyter.widget-view+json": {
       "model_id": "3a073fe676cd4917af38ba0585f2d0ca",
       "version_major": 2,
       "version_minor": 0
      },
      "text/plain": [
       "Processing images in Train_4.txt: 0it [00:00, ?it/s]"
      ]
     },
     "metadata": {},
     "output_type": "display_data"
    },
    {
     "data": {
      "application/vnd.jupyter.widget-view+json": {
       "model_id": "fb7e4bd9b6ac443eac30fa0055def7a5",
       "version_major": 2,
       "version_minor": 0
      },
      "text/plain": [
       "Processing images in Train_5.txt: 0it [00:00, ?it/s]"
      ]
     },
     "metadata": {},
     "output_type": "display_data"
    },
    {
     "data": {
      "application/vnd.jupyter.widget-view+json": {
       "model_id": "8c1bf92286c84fcbbdfa57e5cc60cf53",
       "version_major": 2,
       "version_minor": 0
      },
      "text/plain": [
       "Processing images in Train_6.txt: 0it [00:00, ?it/s]"
      ]
     },
     "metadata": {},
     "output_type": "display_data"
    },
    {
     "data": {
      "application/vnd.jupyter.widget-view+json": {
       "model_id": "2b56b7a18a2249b589b7c66cdb3691ee",
       "version_major": 2,
       "version_minor": 0
      },
      "text/plain": [
       "Processing images in Dev_1.txt: 0it [00:00, ?it/s]"
      ]
     },
     "metadata": {},
     "output_type": "display_data"
    },
    {
     "data": {
      "application/vnd.jupyter.widget-view+json": {
       "model_id": "acbd0cbf766e402bbf3a5c5a63fc3e37",
       "version_major": 2,
       "version_minor": 0
      },
      "text/plain": [
       "Processing images in Dev_2.txt: 0it [00:00, ?it/s]"
      ]
     },
     "metadata": {},
     "output_type": "display_data"
    },
    {
     "data": {
      "application/vnd.jupyter.widget-view+json": {
       "model_id": "79566fe0c2934a94849ebbf0de1f12b4",
       "version_major": 2,
       "version_minor": 0
      },
      "text/plain": [
       "Processing images in Dev_3.txt: 0it [00:00, ?it/s]"
      ]
     },
     "metadata": {},
     "output_type": "display_data"
    },
    {
     "data": {
      "application/vnd.jupyter.widget-view+json": {
       "model_id": "980a108a294f4d37ba957b876d848014",
       "version_major": 2,
       "version_minor": 0
      },
      "text/plain": [
       "Processing images in Dev_4.txt: 0it [00:00, ?it/s]"
      ]
     },
     "metadata": {},
     "output_type": "display_data"
    },
    {
     "data": {
      "application/vnd.jupyter.widget-view+json": {
       "model_id": "3c378103f1514b40997c60fab9b08caf",
       "version_major": 2,
       "version_minor": 0
      },
      "text/plain": [
       "Processing images in Dev_5.txt: 0it [00:00, ?it/s]"
      ]
     },
     "metadata": {},
     "output_type": "display_data"
    },
    {
     "data": {
      "application/vnd.jupyter.widget-view+json": {
       "model_id": "b173066320794093921e97c86bbaa55c",
       "version_major": 2,
       "version_minor": 0
      },
      "text/plain": [
       "Processing images in Dev_6.txt: 0it [00:00, ?it/s]"
      ]
     },
     "metadata": {},
     "output_type": "display_data"
    },
    {
     "data": {
      "application/vnd.jupyter.widget-view+json": {
       "model_id": "05769c98491045efae2ecbe6af3cda92",
       "version_major": 2,
       "version_minor": 0
      },
      "text/plain": [
       "Processing images in Test_1.txt: 0it [00:00, ?it/s]"
      ]
     },
     "metadata": {},
     "output_type": "display_data"
    },
    {
     "data": {
      "application/vnd.jupyter.widget-view+json": {
       "model_id": "b7a5df664dc7440c8a08f52c152a29f8",
       "version_major": 2,
       "version_minor": 0
      },
      "text/plain": [
       "Processing images in Test_2.txt: 0it [00:00, ?it/s]"
      ]
     },
     "metadata": {},
     "output_type": "display_data"
    },
    {
     "data": {
      "application/vnd.jupyter.widget-view+json": {
       "model_id": "3ab780b0eb5d4595b0377ebc537ee065",
       "version_major": 2,
       "version_minor": 0
      },
      "text/plain": [
       "Processing images in Test_3.txt: 0it [00:00, ?it/s]"
      ]
     },
     "metadata": {},
     "output_type": "display_data"
    },
    {
     "data": {
      "application/vnd.jupyter.widget-view+json": {
       "model_id": "0acf5cf5ad1e4cfb8aa6fbe3c2a767e0",
       "version_major": 2,
       "version_minor": 0
      },
      "text/plain": [
       "Processing images in Test_4.txt: 0it [00:00, ?it/s]"
      ]
     },
     "metadata": {},
     "output_type": "display_data"
    },
    {
     "data": {
      "application/vnd.jupyter.widget-view+json": {
       "model_id": "2f6275acbf7942cab8999fe2ef467a99",
       "version_major": 2,
       "version_minor": 0
      },
      "text/plain": [
       "Processing images in Test_5.txt: 0it [00:00, ?it/s]"
      ]
     },
     "metadata": {},
     "output_type": "display_data"
    },
    {
     "data": {
      "application/vnd.jupyter.widget-view+json": {
       "model_id": "f796a49e3c294fcfad6abb5286989fa5",
       "version_major": 2,
       "version_minor": 0
      },
      "text/plain": [
       "Processing images in Test_6.txt: 0it [00:00, ?it/s]"
      ]
     },
     "metadata": {},
     "output_type": "display_data"
    }
   ],
   "source": [
    "import os\n",
    "import csv\n",
    "\n",
    "# Define paths\n",
    "data_folders = ['Train', 'Dev', 'Test']\n",
    "labels = {'+': 1, '-': 0}\n",
    "\n",
    "for folder in data_folders:\n",
    "    for p in range(1, 7):  # Assuming you have Train_1.txt to Train_6.txt\n",
    "        with open(f'{folder}_protocol_3_{p}.csv', 'w', newline='') as csvfile:\n",
    "            fieldnames = ['name', 'label']\n",
    "            writer = csv.DictWriter(csvfile, fieldnames=fieldnames)\n",
    "            writer.writeheader()\n",
    "\n",
    "            with open(f'/home/dinesh/Documents/Datasets/Face anti-spoofing datasets/OULU-NPU/Protocols/Protocol_3/{folder}_{p}.txt', 'r') as file:\n",
    "                li=0\n",
    "                for line in tqdm(file, desc=f'Processing images in {folder}_{p}.txt'):\n",
    "                    li+=1\n",
    "                    if li%5!=0:\n",
    "                        continue\n",
    "                    parts = line.strip().split(',')\n",
    "                    xy, a_b_cd_e = parts[0], parts[1]\n",
    "                    x = xy[0]\n",
    "                    a, b, cd, e = a_b_cd_e.split('_')\n",
    "\n",
    "                    image_folder = 'real'\n",
    "                    image_name = f'{a}_{b}_{cd}'\n",
    "                    if folder == 'Train':\n",
    "                        folder_name = 'train'\n",
    "                    elif folder == 'Dev':\n",
    "                        folder_name = 'dev'\n",
    "                    elif folder == 'Test':\n",
    "                        folder_name = 'test'\n",
    "                    image_folder_path = os.path.join(folder_name, image_folder)\n",
    "                    image_folder_abs_path = os.path.join('/home/dinesh/Documents/Datasets/Face anti-spoofing datasets/OULU-NPU-processed/', image_folder_path)\n",
    "                    matching_files = [f for f in os.listdir(image_folder_abs_path) if f.startswith(image_name)]\n",
    "\n",
    "                    for file_name in matching_files:\n",
    "                        image_path = os.path.join(image_folder_abs_path, file_name)\n",
    "                        writer.writerow({'name': image_path, 'label': 1})\n",
    "\n",
    "                    image_folder = 'attack'\n",
    "                    image_name = f'{a}_{b}_{cd}'\n",
    "                    if folder == 'Train':\n",
    "                        folder_name = 'train'\n",
    "                    elif folder == 'Dev':\n",
    "                        folder_name = 'dev'\n",
    "                    elif folder == 'Test':\n",
    "                        folder_name = 'test'\n",
    "                    image_folder_path = os.path.join(folder_name, image_folder)\n",
    "                    image_folder_abs_path = os.path.join('/home/dinesh/Documents/Datasets/Face anti-spoofing datasets/OULU-NPU-processed/', image_folder_path)\n",
    "                    matching_files = [f for f in os.listdir(image_folder_abs_path) if f.startswith(image_name)]\n",
    "\n",
    "                    for file_name in matching_files:\n",
    "                        image_path = os.path.join(image_folder_abs_path, file_name)\n",
    "                        writer.writerow({'name': image_path, 'label': 0})\n"
   ]
  },
  {
   "cell_type": "code",
   "execution_count": 14,
   "id": "397984d1-fb85-4007-b36a-fe8654f0d9e6",
   "metadata": {},
   "outputs": [
    {
     "data": {
      "application/vnd.jupyter.widget-view+json": {
       "model_id": "df36fcc3168546a5a4fff5e952ed57c5",
       "version_major": 2,
       "version_minor": 0
      },
      "text/plain": [
       "Processing images in Train_1.txt: 0it [00:00, ?it/s]"
      ]
     },
     "metadata": {},
     "output_type": "display_data"
    },
    {
     "data": {
      "application/vnd.jupyter.widget-view+json": {
       "model_id": "c27b44f51f6f4a6ca387ff6e68622eb7",
       "version_major": 2,
       "version_minor": 0
      },
      "text/plain": [
       "Processing images in Train_2.txt: 0it [00:00, ?it/s]"
      ]
     },
     "metadata": {},
     "output_type": "display_data"
    },
    {
     "data": {
      "application/vnd.jupyter.widget-view+json": {
       "model_id": "1d0698240aa142dda4d6ed85bb1aedf3",
       "version_major": 2,
       "version_minor": 0
      },
      "text/plain": [
       "Processing images in Train_3.txt: 0it [00:00, ?it/s]"
      ]
     },
     "metadata": {},
     "output_type": "display_data"
    },
    {
     "data": {
      "application/vnd.jupyter.widget-view+json": {
       "model_id": "3deaec08a78d464cad875b96c08752b4",
       "version_major": 2,
       "version_minor": 0
      },
      "text/plain": [
       "Processing images in Train_4.txt: 0it [00:00, ?it/s]"
      ]
     },
     "metadata": {},
     "output_type": "display_data"
    },
    {
     "data": {
      "application/vnd.jupyter.widget-view+json": {
       "model_id": "8b7491f494cb4cca9dd9e9889b45383b",
       "version_major": 2,
       "version_minor": 0
      },
      "text/plain": [
       "Processing images in Train_5.txt: 0it [00:00, ?it/s]"
      ]
     },
     "metadata": {},
     "output_type": "display_data"
    },
    {
     "data": {
      "application/vnd.jupyter.widget-view+json": {
       "model_id": "b433c8d1303f4d8ebad76578832de08d",
       "version_major": 2,
       "version_minor": 0
      },
      "text/plain": [
       "Processing images in Train_6.txt: 0it [00:00, ?it/s]"
      ]
     },
     "metadata": {},
     "output_type": "display_data"
    },
    {
     "data": {
      "application/vnd.jupyter.widget-view+json": {
       "model_id": "43cd2f99048f4efcbc98db79fa1a8f03",
       "version_major": 2,
       "version_minor": 0
      },
      "text/plain": [
       "Processing images in Dev_1.txt: 0it [00:00, ?it/s]"
      ]
     },
     "metadata": {},
     "output_type": "display_data"
    },
    {
     "data": {
      "application/vnd.jupyter.widget-view+json": {
       "model_id": "271d0982ba9b4db9ab3e714af564bea3",
       "version_major": 2,
       "version_minor": 0
      },
      "text/plain": [
       "Processing images in Dev_2.txt: 0it [00:00, ?it/s]"
      ]
     },
     "metadata": {},
     "output_type": "display_data"
    },
    {
     "data": {
      "application/vnd.jupyter.widget-view+json": {
       "model_id": "22a8b06164d344cdbefa512f386d60ab",
       "version_major": 2,
       "version_minor": 0
      },
      "text/plain": [
       "Processing images in Dev_3.txt: 0it [00:00, ?it/s]"
      ]
     },
     "metadata": {},
     "output_type": "display_data"
    },
    {
     "data": {
      "application/vnd.jupyter.widget-view+json": {
       "model_id": "b7fee250a0e64ceb83bbfc117d3513cc",
       "version_major": 2,
       "version_minor": 0
      },
      "text/plain": [
       "Processing images in Dev_4.txt: 0it [00:00, ?it/s]"
      ]
     },
     "metadata": {},
     "output_type": "display_data"
    },
    {
     "data": {
      "application/vnd.jupyter.widget-view+json": {
       "model_id": "163f7e301e46474194cef03d311dd461",
       "version_major": 2,
       "version_minor": 0
      },
      "text/plain": [
       "Processing images in Dev_5.txt: 0it [00:00, ?it/s]"
      ]
     },
     "metadata": {},
     "output_type": "display_data"
    },
    {
     "data": {
      "application/vnd.jupyter.widget-view+json": {
       "model_id": "bc19aec8e1cb4fa5a2fe23a7b6f27c56",
       "version_major": 2,
       "version_minor": 0
      },
      "text/plain": [
       "Processing images in Dev_6.txt: 0it [00:00, ?it/s]"
      ]
     },
     "metadata": {},
     "output_type": "display_data"
    },
    {
     "data": {
      "application/vnd.jupyter.widget-view+json": {
       "model_id": "c298e5e86f2443e9a3677f7d20f964b2",
       "version_major": 2,
       "version_minor": 0
      },
      "text/plain": [
       "Processing images in Test_1.txt: 0it [00:00, ?it/s]"
      ]
     },
     "metadata": {},
     "output_type": "display_data"
    },
    {
     "data": {
      "application/vnd.jupyter.widget-view+json": {
       "model_id": "931949b37e2f456992648d8e37f28587",
       "version_major": 2,
       "version_minor": 0
      },
      "text/plain": [
       "Processing images in Test_2.txt: 0it [00:00, ?it/s]"
      ]
     },
     "metadata": {},
     "output_type": "display_data"
    },
    {
     "data": {
      "application/vnd.jupyter.widget-view+json": {
       "model_id": "cf252c8cb8bc4f86abb267122e0cf398",
       "version_major": 2,
       "version_minor": 0
      },
      "text/plain": [
       "Processing images in Test_3.txt: 0it [00:00, ?it/s]"
      ]
     },
     "metadata": {},
     "output_type": "display_data"
    },
    {
     "data": {
      "application/vnd.jupyter.widget-view+json": {
       "model_id": "32ad308d689845ff838c9517b0cffec2",
       "version_major": 2,
       "version_minor": 0
      },
      "text/plain": [
       "Processing images in Test_4.txt: 0it [00:00, ?it/s]"
      ]
     },
     "metadata": {},
     "output_type": "display_data"
    },
    {
     "data": {
      "application/vnd.jupyter.widget-view+json": {
       "model_id": "5a1bc24516bb4ed7b6c893543bf2ef38",
       "version_major": 2,
       "version_minor": 0
      },
      "text/plain": [
       "Processing images in Test_5.txt: 0it [00:00, ?it/s]"
      ]
     },
     "metadata": {},
     "output_type": "display_data"
    },
    {
     "data": {
      "application/vnd.jupyter.widget-view+json": {
       "model_id": "2d702f0474014d5c8d1879d7c0b53846",
       "version_major": 2,
       "version_minor": 0
      },
      "text/plain": [
       "Processing images in Test_6.txt: 0it [00:00, ?it/s]"
      ]
     },
     "metadata": {},
     "output_type": "display_data"
    }
   ],
   "source": [
    "import os\n",
    "import csv\n",
    "\n",
    "# Define paths\n",
    "data_folders = ['Train', 'Dev', 'Test']\n",
    "labels = {'+': 1, '-': 0}\n",
    "\n",
    "for folder in data_folders:\n",
    "    for p in range(1, 7):  # Assuming you have Train_1.txt to Train_6.txt\n",
    "        with open(f'{folder}_protocol_4_{p}.csv', 'w', newline='') as csvfile:\n",
    "            fieldnames = ['name', 'label']\n",
    "            writer = csv.DictWriter(csvfile, fieldnames=fieldnames)\n",
    "            writer.writeheader()\n",
    "\n",
    "            with open(f'/home/dinesh/Documents/Datasets/Face anti-spoofing datasets/OULU-NPU/Protocols/Protocol_4/{folder}_{p}.txt', 'r') as file:\n",
    "                li=0\n",
    "                for line in tqdm(file, desc=f'Processing images in {folder}_{p}.txt'):\n",
    "                    li+=1\n",
    "                    if li%5!=0:\n",
    "                        continue\n",
    "                    parts = line.strip().split(',')\n",
    "                    xy, a_b_cd_e = parts[0], parts[1]\n",
    "                    x = xy[0]\n",
    "                    a, b, cd, e = a_b_cd_e.split('_')\n",
    "\n",
    "                    image_folder = 'real'\n",
    "                    image_name = f'{a}_{b}_{cd}'\n",
    "                    if folder == 'Train':\n",
    "                        folder_name = 'train'\n",
    "                    elif folder == 'Dev':\n",
    "                        folder_name = 'dev'\n",
    "                    elif folder == 'Test':\n",
    "                        folder_name = 'test'\n",
    "                    image_folder_path = os.path.join(folder_name, image_folder)\n",
    "                    image_folder_abs_path = os.path.join('/home/dinesh/Documents/Datasets/Face anti-spoofing datasets/OULU-NPU-processed/', image_folder_path)\n",
    "                    matching_files = [f for f in os.listdir(image_folder_abs_path) if f.startswith(image_name)]\n",
    "\n",
    "                    for file_name in matching_files:\n",
    "                        image_path = os.path.join(image_folder_abs_path, file_name)\n",
    "                        writer.writerow({'name': image_path, 'label': 1})\n",
    "\n",
    "                    image_folder = 'attack'\n",
    "                    image_name = f'{a}_{b}_{cd}'\n",
    "                    if folder == 'Train':\n",
    "                        folder_name = 'train'\n",
    "                    elif folder == 'Dev':\n",
    "                        folder_name = 'dev'\n",
    "                    elif folder == 'Test':\n",
    "                        folder_name = 'test'\n",
    "                    image_folder_path = os.path.join(folder_name, image_folder)\n",
    "                    image_folder_abs_path = os.path.join('/home/dinesh/Documents/Datasets/Face anti-spoofing datasets/OULU-NPU-processed/', image_folder_path)\n",
    "                    matching_files = [f for f in os.listdir(image_folder_abs_path) if f.startswith(image_name)]\n",
    "\n",
    "                    for file_name in matching_files:\n",
    "                        image_path = os.path.join(image_folder_abs_path, file_name)\n",
    "                        writer.writerow({'name': image_path, 'label': 0})\n"
   ]
  },
  {
   "cell_type": "markdown",
   "id": "04e34902-bb97-4a9b-b978-a21936421fb0",
   "metadata": {},
   "source": [
    "Shuffling"
   ]
  },
  {
   "cell_type": "code",
   "execution_count": 15,
   "id": "5cd55394-f39a-4cc9-a46b-d8be2d7c5df8",
   "metadata": {},
   "outputs": [],
   "source": [
    "import pandas as pd\n",
    "\n",
    "# Read the CSV file\n",
    "data_folders = ['Train', 'Dev', 'Test']\n",
    "\n",
    "for folder in data_folders:\n",
    "    df = pd.read_csv(f'{folder}_protocol_1.csv')\n",
    "    \n",
    "    # Shuffle the rows\n",
    "    df = df.sample(frac=1, random_state=42).reset_index(drop=True)\n",
    "    \n",
    "    # Save it back to the same file\n",
    "    df.to_csv(f'{folder}_protocol_1.csv', index=False)\n"
   ]
  },
  {
   "cell_type": "code",
   "execution_count": 16,
   "id": "c475b527-81f6-4100-94b8-01c98dd5615d",
   "metadata": {},
   "outputs": [],
   "source": [
    "import pandas as pd\n",
    "\n",
    "# Read the CSV file\n",
    "data_folders = ['Train', 'Dev', 'Test']\n",
    "\n",
    "for folder in data_folders:\n",
    "    df = pd.read_csv(f'{folder}_protocol_2.csv')\n",
    "    \n",
    "    # Shuffle the rows\n",
    "    df = df.sample(frac=1, random_state=42).reset_index(drop=True)\n",
    "    \n",
    "    # Save it back to the same file\n",
    "    df.to_csv(f'{folder}_protocol_2.csv', index=False)\n"
   ]
  },
  {
   "cell_type": "code",
   "execution_count": 17,
   "id": "4fd7fe3f-be93-4638-bb0d-f7565e673582",
   "metadata": {},
   "outputs": [],
   "source": [
    "import pandas as pd\n",
    "\n",
    "# Read the CSV file\n",
    "data_folders = ['Train', 'Dev', 'Test']\n",
    "\n",
    "for folder in data_folders:\n",
    "    for p in range(1, 7):\n",
    "        df = pd.read_csv(f'{folder}_protocol_3_{p}.csv')\n",
    "        \n",
    "        # Shuffle the rows\n",
    "        df = df.sample(frac=1, random_state=42).reset_index(drop=True)\n",
    "        \n",
    "        # Save it back to the same file\n",
    "        df.to_csv(f'{folder}_protocol_3_{p}.csv', index=False)"
   ]
  },
  {
   "cell_type": "code",
   "execution_count": 18,
   "id": "a846698d-7076-4356-b6ce-74b96398d80c",
   "metadata": {},
   "outputs": [],
   "source": [
    "import pandas as pd\n",
    "\n",
    "# Read the CSV file\n",
    "data_folders = ['Train', 'Dev', 'Test']\n",
    "\n",
    "for folder in data_folders:\n",
    "    for p in range(1, 7):\n",
    "        df = pd.read_csv(f'{folder}_protocol_4_{p}.csv')\n",
    "        \n",
    "        # Shuffle the rows\n",
    "        df = df.sample(frac=1, random_state=42).reset_index(drop=True)\n",
    "        \n",
    "        # Save it back to the same file\n",
    "        df.to_csv(f'{folder}_protocol_4_{p}.csv', index=False)"
   ]
  },
  {
   "cell_type": "code",
   "execution_count": null,
   "id": "7af88236-f89f-4ecc-80f6-a2ef8fe4063c",
   "metadata": {},
   "outputs": [],
   "source": []
  }
 ],
 "metadata": {
  "kernelspec": {
   "display_name": "pytorchKernel",
   "language": "python",
   "name": "pytorch"
  },
  "language_info": {
   "codemirror_mode": {
    "name": "ipython",
    "version": 3
   },
   "file_extension": ".py",
   "mimetype": "text/x-python",
   "name": "python",
   "nbconvert_exporter": "python",
   "pygments_lexer": "ipython3",
   "version": "3.11.5"
  }
 },
 "nbformat": 4,
 "nbformat_minor": 5
}
