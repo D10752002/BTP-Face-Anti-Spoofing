{
 "cells": [
  {
   "cell_type": "code",
   "execution_count": 4,
   "id": "03df63be-e19a-45c5-ada4-128c0d962576",
   "metadata": {},
   "outputs": [],
   "source": [
    "import os\n",
    "import cv2\n",
    "import shutil\n",
    "import random\n",
    "import string\n",
    "import numpy as np\n",
    "from tqdm.notebook import tqdm\n",
    "# from imutils import face_utils\n",
    "import matplotlib.pyplot as plt\n",
    "# from mtcnn.mtcnn import MTCNN\n",
    "import csv"
   ]
  },
  {
   "cell_type": "code",
   "execution_count": null,
   "id": "9f3d1fc9-55b5-4fd4-baab-e44d38afef69",
   "metadata": {},
   "outputs": [],
   "source": [
    "# import os\n",
    "# import random\n",
    "# import csv\n",
    "\n",
    "# # Define the paths to your train and test folders\n",
    "# train_folder = '/home/dinesh/Documents/Datasets/Face anti-spoofing datasets/OULU-NPU-processed/train/'\n",
    "# dev_folder = '/home/dinesh/Documents/Datasets/Face anti-spoofing datasets/OULU-NPU-processed/dev/'\n",
    "# test_folder = '/home/dinesh/Documents/Datasets/Face anti-spoofing datasets/OULU-NPU-processed/test/'\n",
    "\n",
    "# # Function to label and shuffle data in a folder\n",
    "# def process_folder(folder_path, label):\n",
    "#     image_paths = []\n",
    "#     for root, dirs, files in os.walk(folder_path):\n",
    "#         for file in files:\n",
    "#             if file.endswith('.png'):\n",
    "#                 image_path = os.path.join(root, file)\n",
    "#                 image_paths.append((image_path, label))\n",
    "    \n",
    "#     # Shuffle the image paths\n",
    "#     random.shuffle(image_paths)\n",
    "    \n",
    "#     return image_paths\n",
    "\n",
    "# # Process the train and test folders\n",
    "# train_real_paths = process_folder(os.path.join(train_folder, 'real'), 1)\n",
    "# dev_real_paths = process_folder(os.path.join(dev_folder, 'real'), 1)\n",
    "# test_real_paths = process_folder(os.path.join(test_folder, 'real'), 1)\n",
    "\n",
    "# # Include images from the \"hand\" and \"fixed\" subfolders within the \"spoof\" folder\n",
    "# train_fake_paths = process_folder(os.path.join(train_folder, 'attack'), 0)\n",
    "# dev_fake_paths = process_folder(os.path.join(dev_folder, 'attack'), 0)\n",
    "# test_fake_paths = process_folder(os.path.join(test_folder, 'attack'), 0)\n",
    "\n",
    "# # Combine real and fake paths\n",
    "# train_data = train_real_paths + train_fake_paths\n",
    "# dev_data = dev_real_paths + dev_fake_paths\n",
    "# test_data = test_real_paths + test_fake_paths\n",
    "\n",
    "# # Shuffle the combined data\n",
    "# random.shuffle(train_data)\n",
    "# random.shuffle(dev_data)\n",
    "# random.shuffle(test_data)\n",
    "\n",
    "# # Define CSV filenames\n",
    "# train_csv_filename = 'train_data.csv'\n",
    "# dev_csv_filename = 'dev_data.csv'\n",
    "# test_csv_filename = 'test_data.csv'\n",
    "\n",
    "# # Write data to CSV files\n",
    "# def write_to_csv(filename, data):\n",
    "#     with open(filename, 'w', newline='') as csvfile:\n",
    "#         csv_writer = csv.writer(csvfile)\n",
    "#         csv_writer.writerow(['name', 'label'])\n",
    "#         csv_writer.writerows(data)\n",
    "\n",
    "# write_to_csv(train_csv_filename, train_data)\n",
    "# write_to_csv(dev_csv_filename, dev_data)\n",
    "# write_to_csv(test_csv_filename, test_data)\n",
    "\n",
    "# print(f\"Train data saved to {train_csv_filename}\")\n",
    "# print(f\"Dev data saved to {dev_csv_filename}\")\n",
    "# print(f\"Test data saved to {test_csv_filename}\")\n"
   ]
  },
  {
   "cell_type": "code",
   "execution_count": null,
   "id": "c2406986-48b2-4b00-9b80-890e051e2438",
   "metadata": {},
   "outputs": [],
   "source": []
  },
  {
   "cell_type": "markdown",
   "id": "de5ab38f-3a5d-46b9-bb78-ab9ceb1c6794",
   "metadata": {},
   "source": [
    "### DEFINE CSV FILES FOR 4 PROTOCOLS"
   ]
  },
  {
   "cell_type": "markdown",
   "id": "7fdca14c-b52d-4e43-a639-366ac61b68aa",
   "metadata": {},
   "source": [
    "Protocol 1 and 2"
   ]
  },
  {
   "cell_type": "code",
   "execution_count": 8,
   "id": "75ee43f1-4ab1-49d3-827a-0d79d3e3abec",
   "metadata": {},
   "outputs": [
    {
     "data": {
      "application/vnd.jupyter.widget-view+json": {
       "model_id": "41b01679926343c88cfe5896dfaf1a0c",
       "version_major": 2,
       "version_minor": 0
      },
      "text/plain": [
       "Processing images: 0it [00:00, ?it/s]"
      ]
     },
     "metadata": {},
     "output_type": "display_data"
    },
    {
     "data": {
      "application/vnd.jupyter.widget-view+json": {
       "model_id": "a9557c2e501a403ca08c9ecfff952a88",
       "version_major": 2,
       "version_minor": 0
      },
      "text/plain": [
       "Processing images: 0it [00:00, ?it/s]"
      ]
     },
     "metadata": {},
     "output_type": "display_data"
    },
    {
     "data": {
      "application/vnd.jupyter.widget-view+json": {
       "model_id": "6f19ec6a23154083bfabd889713f0e3e",
       "version_major": 2,
       "version_minor": 0
      },
      "text/plain": [
       "Processing images: 0it [00:00, ?it/s]"
      ]
     },
     "metadata": {},
     "output_type": "display_data"
    }
   ],
   "source": [
    "import os\n",
    "import csv\n",
    "\n",
    "# Define paths\n",
    "data_folders = ['Train', 'Dev', 'Test']\n",
    "labels = {'+': 1, '-': 0}\n",
    "\n",
    "for folder in data_folders:\n",
    "    with open(f'{folder}_protocol_1.csv', 'w', newline='') as csvfile:\n",
    "        fieldnames = ['name', 'label']\n",
    "        writer = csv.DictWriter(csvfile, fieldnames=fieldnames)\n",
    "        writer.writeheader()\n",
    "\n",
    "        with open(f'/home/dinesh/Documents/Datasets/Face anti-spoofing datasets/OULU-NPU/Protocols/Protocol_1/{folder}.txt', 'r') as file:\n",
    "            for line in tqdm(file, desc='Processing images'):\n",
    "                parts = line.strip().split(',')\n",
    "                xy, a_b_cd_e = parts[0], parts[1]\n",
    "                x=xy[0]\n",
    "                a, b, cd, e = a_b_cd_e.split('_')\n",
    "\n",
    "                image_folder = 'real' if x == '+' else 'attack'\n",
    "                image_name = f'{a}_{b}_{cd}'\n",
    "                if folder=='Train':\n",
    "                    folder_name='train'\n",
    "                if folder=='Dev':\n",
    "                    folder_name='dev'\n",
    "                if folder=='Test':\n",
    "                    folder_name='test'\n",
    "                image_folder_path = os.path.join(folder_name, image_folder)\n",
    "                image_folder_abs_path = os.path.join('/home/dinesh/Documents/Datasets/Face anti-spoofing datasets/OULU-NPU-processed/', image_folder_path)\n",
    "                matching_files = [f for f in os.listdir(image_folder_abs_path) if f.startswith(image_name)]\n",
    "\n",
    "                for file_name in matching_files:\n",
    "                    image_path = os.path.join(image_folder_abs_path, file_name)\n",
    "                    writer.writerow({'name': image_path, 'label': labels[x]})\n"
   ]
  },
  {
   "cell_type": "code",
   "execution_count": 9,
   "id": "2abe491d-dc76-46bf-b676-217c2c1b6f2c",
   "metadata": {},
   "outputs": [
    {
     "data": {
      "application/vnd.jupyter.widget-view+json": {
       "model_id": "07dea69981bf4ed9959dc10ffd9d8145",
       "version_major": 2,
       "version_minor": 0
      },
      "text/plain": [
       "Processing images: 0it [00:00, ?it/s]"
      ]
     },
     "metadata": {},
     "output_type": "display_data"
    },
    {
     "data": {
      "application/vnd.jupyter.widget-view+json": {
       "model_id": "fa0adc32668d4f2384c6b6728d0ce627",
       "version_major": 2,
       "version_minor": 0
      },
      "text/plain": [
       "Processing images: 0it [00:00, ?it/s]"
      ]
     },
     "metadata": {},
     "output_type": "display_data"
    },
    {
     "data": {
      "application/vnd.jupyter.widget-view+json": {
       "model_id": "48c8cd4b089c48818eb94304de5f2aaa",
       "version_major": 2,
       "version_minor": 0
      },
      "text/plain": [
       "Processing images: 0it [00:00, ?it/s]"
      ]
     },
     "metadata": {},
     "output_type": "display_data"
    }
   ],
   "source": [
    "import os\n",
    "import csv\n",
    "\n",
    "# Define paths\n",
    "data_folders = ['Train', 'Dev', 'Test']\n",
    "labels = {'+': 1, '-': 0}\n",
    "\n",
    "for folder in data_folders:\n",
    "    with open(f'{folder}_protocol_2.csv', 'w', newline='') as csvfile:\n",
    "        fieldnames = ['name', 'label']\n",
    "        writer = csv.DictWriter(csvfile, fieldnames=fieldnames)\n",
    "        writer.writeheader()\n",
    "\n",
    "        with open(f'/home/dinesh/Documents/Datasets/Face anti-spoofing datasets/OULU-NPU/Protocols/Protocol_2/{folder}.txt', 'r') as file:\n",
    "            for line in tqdm(file, desc='Processing images'):\n",
    "                parts = line.strip().split(',')\n",
    "                xy, a_b_cd_e = parts[0], parts[1]\n",
    "                x=xy[0]\n",
    "                a, b, cd, e = a_b_cd_e.split('_')\n",
    "\n",
    "                image_folder = 'real' if x == '+' else 'attack'\n",
    "                image_name = f'{a}_{b}_{cd}'\n",
    "                if folder=='Train':\n",
    "                    folder_name='train'\n",
    "                if folder=='Dev':\n",
    "                    folder_name='dev'\n",
    "                if folder=='Test':\n",
    "                    folder_name='test'\n",
    "                image_folder_path = os.path.join(folder_name, image_folder)\n",
    "                image_folder_abs_path = os.path.join('/home/dinesh/Documents/Datasets/Face anti-spoofing datasets/OULU-NPU-processed/', image_folder_path)\n",
    "                matching_files = [f for f in os.listdir(image_folder_abs_path) if f.startswith(image_name)]\n",
    "\n",
    "                for file_name in matching_files:\n",
    "                    image_path = os.path.join(image_folder_abs_path, file_name)\n",
    "                    writer.writerow({'name': image_path, 'label': labels[x]})\n"
   ]
  },
  {
   "cell_type": "markdown",
   "id": "9b0cde94-825e-46cf-b3d3-d1fc0ecd1418",
   "metadata": {},
   "source": [
    "Protocol 3 and 4"
   ]
  },
  {
   "cell_type": "code",
   "execution_count": 12,
   "id": "c3a72924-bc51-4190-bcfb-0b16a7a1a140",
   "metadata": {},
   "outputs": [
    {
     "data": {
      "application/vnd.jupyter.widget-view+json": {
       "model_id": "835e2df07d754071bf64a7afeb8c951b",
       "version_major": 2,
       "version_minor": 0
      },
      "text/plain": [
       "Processing images in Train_1.txt: 0it [00:00, ?it/s]"
      ]
     },
     "metadata": {},
     "output_type": "display_data"
    },
    {
     "data": {
      "application/vnd.jupyter.widget-view+json": {
       "model_id": "815649b4bdc247a8b9ab237f757590ff",
       "version_major": 2,
       "version_minor": 0
      },
      "text/plain": [
       "Processing images in Train_2.txt: 0it [00:00, ?it/s]"
      ]
     },
     "metadata": {},
     "output_type": "display_data"
    },
    {
     "data": {
      "application/vnd.jupyter.widget-view+json": {
       "model_id": "a561173f741241178a3e17f52de6b76c",
       "version_major": 2,
       "version_minor": 0
      },
      "text/plain": [
       "Processing images in Train_3.txt: 0it [00:00, ?it/s]"
      ]
     },
     "metadata": {},
     "output_type": "display_data"
    },
    {
     "data": {
      "application/vnd.jupyter.widget-view+json": {
       "model_id": "9628650f6d934e969708fea626a9f166",
       "version_major": 2,
       "version_minor": 0
      },
      "text/plain": [
       "Processing images in Train_4.txt: 0it [00:00, ?it/s]"
      ]
     },
     "metadata": {},
     "output_type": "display_data"
    },
    {
     "data": {
      "application/vnd.jupyter.widget-view+json": {
       "model_id": "1d82e1673a74423396d4c51ac6287bfb",
       "version_major": 2,
       "version_minor": 0
      },
      "text/plain": [
       "Processing images in Train_5.txt: 0it [00:00, ?it/s]"
      ]
     },
     "metadata": {},
     "output_type": "display_data"
    },
    {
     "data": {
      "application/vnd.jupyter.widget-view+json": {
       "model_id": "0a93c5e6c1564f12955c4a018ee6737f",
       "version_major": 2,
       "version_minor": 0
      },
      "text/plain": [
       "Processing images in Train_6.txt: 0it [00:00, ?it/s]"
      ]
     },
     "metadata": {},
     "output_type": "display_data"
    },
    {
     "data": {
      "application/vnd.jupyter.widget-view+json": {
       "model_id": "5a219ed56a7e40f1bff78c61d209ca87",
       "version_major": 2,
       "version_minor": 0
      },
      "text/plain": [
       "Processing images in Dev_1.txt: 0it [00:00, ?it/s]"
      ]
     },
     "metadata": {},
     "output_type": "display_data"
    },
    {
     "data": {
      "application/vnd.jupyter.widget-view+json": {
       "model_id": "df7c4a98802b4e1f85d3912180249ca3",
       "version_major": 2,
       "version_minor": 0
      },
      "text/plain": [
       "Processing images in Dev_2.txt: 0it [00:00, ?it/s]"
      ]
     },
     "metadata": {},
     "output_type": "display_data"
    },
    {
     "data": {
      "application/vnd.jupyter.widget-view+json": {
       "model_id": "df4a5b91ff094b6e97fe03b5a4ea175c",
       "version_major": 2,
       "version_minor": 0
      },
      "text/plain": [
       "Processing images in Dev_3.txt: 0it [00:00, ?it/s]"
      ]
     },
     "metadata": {},
     "output_type": "display_data"
    },
    {
     "data": {
      "application/vnd.jupyter.widget-view+json": {
       "model_id": "bd57e855a6c145459057f6cab520ee43",
       "version_major": 2,
       "version_minor": 0
      },
      "text/plain": [
       "Processing images in Dev_4.txt: 0it [00:00, ?it/s]"
      ]
     },
     "metadata": {},
     "output_type": "display_data"
    },
    {
     "data": {
      "application/vnd.jupyter.widget-view+json": {
       "model_id": "185874719268416e98dfcaba8115da54",
       "version_major": 2,
       "version_minor": 0
      },
      "text/plain": [
       "Processing images in Dev_5.txt: 0it [00:00, ?it/s]"
      ]
     },
     "metadata": {},
     "output_type": "display_data"
    },
    {
     "data": {
      "application/vnd.jupyter.widget-view+json": {
       "model_id": "6717ddddd01a41618cc670590db2979b",
       "version_major": 2,
       "version_minor": 0
      },
      "text/plain": [
       "Processing images in Dev_6.txt: 0it [00:00, ?it/s]"
      ]
     },
     "metadata": {},
     "output_type": "display_data"
    },
    {
     "data": {
      "application/vnd.jupyter.widget-view+json": {
       "model_id": "5a46dc828bf84f068601c00f3b5f944c",
       "version_major": 2,
       "version_minor": 0
      },
      "text/plain": [
       "Processing images in Test_1.txt: 0it [00:00, ?it/s]"
      ]
     },
     "metadata": {},
     "output_type": "display_data"
    },
    {
     "data": {
      "application/vnd.jupyter.widget-view+json": {
       "model_id": "a969efda266441e988d778ef01c85b04",
       "version_major": 2,
       "version_minor": 0
      },
      "text/plain": [
       "Processing images in Test_2.txt: 0it [00:00, ?it/s]"
      ]
     },
     "metadata": {},
     "output_type": "display_data"
    },
    {
     "data": {
      "application/vnd.jupyter.widget-view+json": {
       "model_id": "4fa2dbdb290a4d80b1e0a490581658d0",
       "version_major": 2,
       "version_minor": 0
      },
      "text/plain": [
       "Processing images in Test_3.txt: 0it [00:00, ?it/s]"
      ]
     },
     "metadata": {},
     "output_type": "display_data"
    },
    {
     "data": {
      "application/vnd.jupyter.widget-view+json": {
       "model_id": "33af64f6ebd24b54aba5a31e7ae3cdef",
       "version_major": 2,
       "version_minor": 0
      },
      "text/plain": [
       "Processing images in Test_4.txt: 0it [00:00, ?it/s]"
      ]
     },
     "metadata": {},
     "output_type": "display_data"
    },
    {
     "data": {
      "application/vnd.jupyter.widget-view+json": {
       "model_id": "b95a30e1228c4c1cab82a5f1263fa061",
       "version_major": 2,
       "version_minor": 0
      },
      "text/plain": [
       "Processing images in Test_5.txt: 0it [00:00, ?it/s]"
      ]
     },
     "metadata": {},
     "output_type": "display_data"
    },
    {
     "data": {
      "application/vnd.jupyter.widget-view+json": {
       "model_id": "9bd62ca6c5494729be497554acd09c55",
       "version_major": 2,
       "version_minor": 0
      },
      "text/plain": [
       "Processing images in Test_6.txt: 0it [00:00, ?it/s]"
      ]
     },
     "metadata": {},
     "output_type": "display_data"
    }
   ],
   "source": [
    "import os\n",
    "import csv\n",
    "\n",
    "# Define paths\n",
    "data_folders = ['Train', 'Dev', 'Test']\n",
    "labels = {'+': 1, '-': 0}\n",
    "\n",
    "for folder in data_folders:\n",
    "    for p in range(1, 7):  # Assuming you have Train_1.txt to Train_6.txt\n",
    "        with open(f'{folder}_protocol_3_{p}.csv', 'w', newline='') as csvfile:\n",
    "            fieldnames = ['name', 'label']\n",
    "            writer = csv.DictWriter(csvfile, fieldnames=fieldnames)\n",
    "            writer.writeheader()\n",
    "\n",
    "            with open(f'/home/dinesh/Documents/Datasets/Face anti-spoofing datasets/OULU-NPU/Protocols/Protocol_3/{folder}_{p}.txt', 'r') as file:\n",
    "                for line in tqdm(file, desc=f'Processing images in {folder}_{p}.txt'):\n",
    "                    parts = line.strip().split(',')\n",
    "                    xy, a_b_cd_e = parts[0], parts[1]\n",
    "                    x = xy[0]\n",
    "                    a, b, cd, e = a_b_cd_e.split('_')\n",
    "\n",
    "                    image_folder = 'real' if x == '+' else 'attack'\n",
    "                    image_name = f'{a}_{b}_{cd}'\n",
    "                    if folder == 'Train':\n",
    "                        folder_name = 'train'\n",
    "                    elif folder == 'Dev':\n",
    "                        folder_name = 'dev'\n",
    "                    elif folder == 'Test':\n",
    "                        folder_name = 'test'\n",
    "                    image_folder_path = os.path.join(folder_name, image_folder)\n",
    "                    image_folder_abs_path = os.path.join('/home/dinesh/Documents/Datasets/Face anti-spoofing datasets/OULU-NPU-processed/', image_folder_path)\n",
    "                    matching_files = [f for f in os.listdir(image_folder_abs_path) if f.startswith(image_name)]\n",
    "\n",
    "                    for file_name in matching_files:\n",
    "                        image_path = os.path.join(image_folder_abs_path, file_name)\n",
    "                        writer.writerow({'name': image_path, 'label': labels[x]})\n"
   ]
  },
  {
   "cell_type": "code",
   "execution_count": 13,
   "id": "397984d1-fb85-4007-b36a-fe8654f0d9e6",
   "metadata": {},
   "outputs": [
    {
     "data": {
      "application/vnd.jupyter.widget-view+json": {
       "model_id": "fe70c2b3d6d2437ea0d4070d492c4ba2",
       "version_major": 2,
       "version_minor": 0
      },
      "text/plain": [
       "Processing images in Train_1.txt: 0it [00:00, ?it/s]"
      ]
     },
     "metadata": {},
     "output_type": "display_data"
    },
    {
     "data": {
      "application/vnd.jupyter.widget-view+json": {
       "model_id": "d3e1e6386c474406a85610ff9a2c9df1",
       "version_major": 2,
       "version_minor": 0
      },
      "text/plain": [
       "Processing images in Train_2.txt: 0it [00:00, ?it/s]"
      ]
     },
     "metadata": {},
     "output_type": "display_data"
    },
    {
     "data": {
      "application/vnd.jupyter.widget-view+json": {
       "model_id": "39ee1fae768e4b5899022c9b8916c0cd",
       "version_major": 2,
       "version_minor": 0
      },
      "text/plain": [
       "Processing images in Train_3.txt: 0it [00:00, ?it/s]"
      ]
     },
     "metadata": {},
     "output_type": "display_data"
    },
    {
     "data": {
      "application/vnd.jupyter.widget-view+json": {
       "model_id": "f635b85f85cb49a5a25dacff0092ba7a",
       "version_major": 2,
       "version_minor": 0
      },
      "text/plain": [
       "Processing images in Train_4.txt: 0it [00:00, ?it/s]"
      ]
     },
     "metadata": {},
     "output_type": "display_data"
    },
    {
     "data": {
      "application/vnd.jupyter.widget-view+json": {
       "model_id": "8d3fc3b623cc4befbd0da306735ee86e",
       "version_major": 2,
       "version_minor": 0
      },
      "text/plain": [
       "Processing images in Train_5.txt: 0it [00:00, ?it/s]"
      ]
     },
     "metadata": {},
     "output_type": "display_data"
    },
    {
     "data": {
      "application/vnd.jupyter.widget-view+json": {
       "model_id": "460d740c6ea74a65adbf7fe913762925",
       "version_major": 2,
       "version_minor": 0
      },
      "text/plain": [
       "Processing images in Train_6.txt: 0it [00:00, ?it/s]"
      ]
     },
     "metadata": {},
     "output_type": "display_data"
    },
    {
     "data": {
      "application/vnd.jupyter.widget-view+json": {
       "model_id": "3a9f6ea78106448fa7d5b0ad944ad639",
       "version_major": 2,
       "version_minor": 0
      },
      "text/plain": [
       "Processing images in Dev_1.txt: 0it [00:00, ?it/s]"
      ]
     },
     "metadata": {},
     "output_type": "display_data"
    },
    {
     "data": {
      "application/vnd.jupyter.widget-view+json": {
       "model_id": "678d052b3c5141038166ea9b19178d25",
       "version_major": 2,
       "version_minor": 0
      },
      "text/plain": [
       "Processing images in Dev_2.txt: 0it [00:00, ?it/s]"
      ]
     },
     "metadata": {},
     "output_type": "display_data"
    },
    {
     "data": {
      "application/vnd.jupyter.widget-view+json": {
       "model_id": "12ec5ba767a5406792f2611215fb6808",
       "version_major": 2,
       "version_minor": 0
      },
      "text/plain": [
       "Processing images in Dev_3.txt: 0it [00:00, ?it/s]"
      ]
     },
     "metadata": {},
     "output_type": "display_data"
    },
    {
     "data": {
      "application/vnd.jupyter.widget-view+json": {
       "model_id": "2eaffdb64d5d43408cc86c0eef02a233",
       "version_major": 2,
       "version_minor": 0
      },
      "text/plain": [
       "Processing images in Dev_4.txt: 0it [00:00, ?it/s]"
      ]
     },
     "metadata": {},
     "output_type": "display_data"
    },
    {
     "data": {
      "application/vnd.jupyter.widget-view+json": {
       "model_id": "af4dda70fa6140b8a7f2f0d56ec110b9",
       "version_major": 2,
       "version_minor": 0
      },
      "text/plain": [
       "Processing images in Dev_5.txt: 0it [00:00, ?it/s]"
      ]
     },
     "metadata": {},
     "output_type": "display_data"
    },
    {
     "data": {
      "application/vnd.jupyter.widget-view+json": {
       "model_id": "703735f7a1a14dbaabcd9fd3dfc188d9",
       "version_major": 2,
       "version_minor": 0
      },
      "text/plain": [
       "Processing images in Dev_6.txt: 0it [00:00, ?it/s]"
      ]
     },
     "metadata": {},
     "output_type": "display_data"
    },
    {
     "data": {
      "application/vnd.jupyter.widget-view+json": {
       "model_id": "a054801f1c95490eb4eaf38bc1ee899b",
       "version_major": 2,
       "version_minor": 0
      },
      "text/plain": [
       "Processing images in Test_1.txt: 0it [00:00, ?it/s]"
      ]
     },
     "metadata": {},
     "output_type": "display_data"
    },
    {
     "data": {
      "application/vnd.jupyter.widget-view+json": {
       "model_id": "d8b5d388e4214c9182dc95c8610ccbb8",
       "version_major": 2,
       "version_minor": 0
      },
      "text/plain": [
       "Processing images in Test_2.txt: 0it [00:00, ?it/s]"
      ]
     },
     "metadata": {},
     "output_type": "display_data"
    },
    {
     "data": {
      "application/vnd.jupyter.widget-view+json": {
       "model_id": "4fe9d4aa9a484468a86a660a9b9bd1bf",
       "version_major": 2,
       "version_minor": 0
      },
      "text/plain": [
       "Processing images in Test_3.txt: 0it [00:00, ?it/s]"
      ]
     },
     "metadata": {},
     "output_type": "display_data"
    },
    {
     "data": {
      "application/vnd.jupyter.widget-view+json": {
       "model_id": "33894e86da694514afcda41bc2e00946",
       "version_major": 2,
       "version_minor": 0
      },
      "text/plain": [
       "Processing images in Test_4.txt: 0it [00:00, ?it/s]"
      ]
     },
     "metadata": {},
     "output_type": "display_data"
    },
    {
     "data": {
      "application/vnd.jupyter.widget-view+json": {
       "model_id": "5f6e7bcd0afb4cfcb430dc12d473f0a7",
       "version_major": 2,
       "version_minor": 0
      },
      "text/plain": [
       "Processing images in Test_5.txt: 0it [00:00, ?it/s]"
      ]
     },
     "metadata": {},
     "output_type": "display_data"
    },
    {
     "data": {
      "application/vnd.jupyter.widget-view+json": {
       "model_id": "c61157dc68094cd1a7b261f384d0997f",
       "version_major": 2,
       "version_minor": 0
      },
      "text/plain": [
       "Processing images in Test_6.txt: 0it [00:00, ?it/s]"
      ]
     },
     "metadata": {},
     "output_type": "display_data"
    }
   ],
   "source": [
    "import os\n",
    "import csv\n",
    "\n",
    "# Define paths\n",
    "data_folders = ['Train', 'Dev', 'Test']\n",
    "labels = {'+': 1, '-': 0}\n",
    "\n",
    "for folder in data_folders:\n",
    "    for p in range(1, 7):  # Assuming you have Train_1.txt to Train_6.txt\n",
    "        with open(f'{folder}_protocol_4_{p}.csv', 'w', newline='') as csvfile:\n",
    "            fieldnames = ['name', 'label']\n",
    "            writer = csv.DictWriter(csvfile, fieldnames=fieldnames)\n",
    "            writer.writeheader()\n",
    "\n",
    "            with open(f'/home/dinesh/Documents/Datasets/Face anti-spoofing datasets/OULU-NPU/Protocols/Protocol_4/{folder}_{p}.txt', 'r') as file:\n",
    "                for line in tqdm(file, desc=f'Processing images in {folder}_{p}.txt'):\n",
    "                    parts = line.strip().split(',')\n",
    "                    xy, a_b_cd_e = parts[0], parts[1]\n",
    "                    x = xy[0]\n",
    "                    a, b, cd, e = a_b_cd_e.split('_')\n",
    "\n",
    "                    image_folder = 'real' if x == '+' else 'attack'\n",
    "                    image_name = f'{a}_{b}_{cd}'\n",
    "                    if folder == 'Train':\n",
    "                        folder_name = 'train'\n",
    "                    elif folder == 'Dev':\n",
    "                        folder_name = 'dev'\n",
    "                    elif folder == 'Test':\n",
    "                        folder_name = 'test'\n",
    "                    image_folder_path = os.path.join(folder_name, image_folder)\n",
    "                    image_folder_abs_path = os.path.join('/home/dinesh/Documents/Datasets/Face anti-spoofing datasets/OULU-NPU-processed/', image_folder_path)\n",
    "                    matching_files = [f for f in os.listdir(image_folder_abs_path) if f.startswith(image_name)]\n",
    "\n",
    "                    for file_name in matching_files:\n",
    "                        image_path = os.path.join(image_folder_abs_path, file_name)\n",
    "                        writer.writerow({'name': image_path, 'label': labels[x]})\n"
   ]
  },
  {
   "cell_type": "markdown",
   "id": "04e34902-bb97-4a9b-b978-a21936421fb0",
   "metadata": {},
   "source": [
    "Shuffling"
   ]
  },
  {
   "cell_type": "code",
   "execution_count": 10,
   "id": "5cd55394-f39a-4cc9-a46b-d8be2d7c5df8",
   "metadata": {},
   "outputs": [],
   "source": [
    "import pandas as pd\n",
    "\n",
    "# Read the CSV file\n",
    "data_folders = ['Train', 'Dev', 'Test']\n",
    "\n",
    "for folder in data_folders:\n",
    "    df = pd.read_csv(f'{folder}_protocol_1.csv')\n",
    "    \n",
    "    # Shuffle the rows\n",
    "    df = df.sample(frac=1, random_state=42).reset_index(drop=True)\n",
    "    \n",
    "    # Save it back to the same file\n",
    "    df.to_csv(f'{folder}_protocol_1.csv', index=False)\n"
   ]
  },
  {
   "cell_type": "code",
   "execution_count": 11,
   "id": "c475b527-81f6-4100-94b8-01c98dd5615d",
   "metadata": {},
   "outputs": [],
   "source": [
    "import pandas as pd\n",
    "\n",
    "# Read the CSV file\n",
    "data_folders = ['Train', 'Dev', 'Test']\n",
    "\n",
    "for folder in data_folders:\n",
    "    df = pd.read_csv(f'{folder}_protocol_2.csv')\n",
    "    \n",
    "    # Shuffle the rows\n",
    "    df = df.sample(frac=1, random_state=42).reset_index(drop=True)\n",
    "    \n",
    "    # Save it back to the same file\n",
    "    df.to_csv(f'{folder}_protocol_2.csv', index=False)\n"
   ]
  },
  {
   "cell_type": "code",
   "execution_count": 14,
   "id": "4fd7fe3f-be93-4638-bb0d-f7565e673582",
   "metadata": {},
   "outputs": [],
   "source": [
    "import pandas as pd\n",
    "\n",
    "# Read the CSV file\n",
    "data_folders = ['Train', 'Dev', 'Test']\n",
    "\n",
    "for folder in data_folders:\n",
    "    for p in range(1, 7):\n",
    "        df = pd.read_csv(f'{folder}_protocol_3_{p}.csv')\n",
    "        \n",
    "        # Shuffle the rows\n",
    "        df = df.sample(frac=1, random_state=42).reset_index(drop=True)\n",
    "        \n",
    "        # Save it back to the same file\n",
    "        df.to_csv(f'{folder}_protocol_3_{p}.csv', index=False)"
   ]
  },
  {
   "cell_type": "code",
   "execution_count": 15,
   "id": "a846698d-7076-4356-b6ce-74b96398d80c",
   "metadata": {},
   "outputs": [],
   "source": [
    "import pandas as pd\n",
    "\n",
    "# Read the CSV file\n",
    "data_folders = ['Train', 'Dev', 'Test']\n",
    "\n",
    "for folder in data_folders:\n",
    "    for p in range(1, 7):\n",
    "        df = pd.read_csv(f'{folder}_protocol_4_{p}.csv')\n",
    "        \n",
    "        # Shuffle the rows\n",
    "        df = df.sample(frac=1, random_state=42).reset_index(drop=True)\n",
    "        \n",
    "        # Save it back to the same file\n",
    "        df.to_csv(f'{folder}_protocol_4_{p}.csv', index=False)"
   ]
  },
  {
   "cell_type": "code",
   "execution_count": null,
   "id": "7af88236-f89f-4ecc-80f6-a2ef8fe4063c",
   "metadata": {},
   "outputs": [],
   "source": []
  }
 ],
 "metadata": {
  "kernelspec": {
   "display_name": "pytorchKernel",
   "language": "python",
   "name": "pytorch"
  },
  "language_info": {
   "codemirror_mode": {
    "name": "ipython",
    "version": 3
   },
   "file_extension": ".py",
   "mimetype": "text/x-python",
   "name": "python",
   "nbconvert_exporter": "python",
   "pygments_lexer": "ipython3",
   "version": "3.11.5"
  }
 },
 "nbformat": 4,
 "nbformat_minor": 5
}
